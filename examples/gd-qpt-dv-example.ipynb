{
 "cells": [
  {
   "cell_type": "markdown",
   "metadata": {},
   "source": [
    "## Gradient-descent quantum process tomography and benchmarks\n",
    "\n",
    "In this notebook, we demonstrate how the quantum process tomography task can\n",
    "be performed using gradient-based learning of Kraus operators similar to\n",
    "training neural networks. We consider random discrete-variable quantum processes\n",
    "and gradient-descent QPT (GD-QPT) against compressed sensing (CS)."
   ]
  },
  {
   "cell_type": "code",
   "execution_count": 1,
   "metadata": {},
   "outputs": [],
   "source": [
    "import sys\n",
    "import os\n",
    "\n",
    "from functools import partial\n",
    "\n",
    "\n",
    "import numpy as np\n",
    "\n",
    "\n",
    "import scipy as sp\n",
    "from scipy import stats\n",
    "\n",
    "\n",
    "from qutip import Qobj, fidelity, ket2dm, qeye, sigmax, sigmay, sigmaz\n",
    "from qutip.superop_reps import kraus_to_choi\n",
    "from qutip.random_objects import rand_super_bcsz, rand_kraus_map, rand_unitary\n",
    "from qutip.visualization import hinton\n",
    "\n",
    "\n",
    "from tqdm.auto import tqdm\n",
    "from tqdm import trange\n",
    "\n",
    "\n",
    "import jax\n",
    "from jax import numpy as jnp\n",
    "from jax import jit, vmap, grad\n",
    "from jax.config import config\n",
    "\n",
    "\n",
    "import cvxpy as cp\n",
    "\n",
    "\n",
    "from matplotlib import pyplot as plt\n",
    "import matplotlib.colors as colors\n",
    "\n",
    "from gd_qpt.core import (tensor_product_list, convert_to_jax, prod_pauli_vecs,\n",
    "                         probas_pauli)\n",
    "from gd_qpt.cs import get_sensing_matrix, CompressedSensing\n",
    "from gd_qpt.gd import predict, get_block, get_unblock, stiefel_update\n",
    "\n",
    "\n",
    "config.update(\"jax_enable_x64\", True)"
   ]
  },
  {
   "cell_type": "markdown",
   "metadata": {},
   "source": [
    "### Generate a set of random Kraus operators from random unitaries"
   ]
  },
  {
   "cell_type": "code",
   "execution_count": 2,
   "metadata": {},
   "outputs": [],
   "source": [
    "# number of qubits\n",
    "n = 2 \n",
    "\n",
    "# Rank of process and number of Kraus operators\n",
    "rank = 16\n",
    "num_kraus = 16\n",
    "\n",
    "# Hilbert space dimension\n",
    "N = 2**n\n",
    "\n",
    "\n",
    "def random_kraus(N, weights, rank, density=0.5):\n",
    "    \"\"\"Generates a sum of random unitaries to form a process given a set of\n",
    "    weights and the rank of the process.\n",
    "\n",
    "    Args:\n",
    "        N (int): Hilbert space dimension.\n",
    "        weights (array): Random weights that will be normalized.\n",
    "        rank (int): The rank of the process.\n",
    "        density (float): A number between 0, 1 to specifying the density of the\n",
    "                         random unitaries.\n",
    "\n",
    "    Returns:\n",
    "        kraus_ops (array): A (k x N x N) complex-valued array of Kraus operators.\n",
    "    \"\"\"\n",
    "    weights_unnormalized = weights**np.arange(rank)\n",
    "    weights = weights_unnormalized / (weights_unnormalized).sum()\n",
    "    kraus_ops = np.array([np.sqrt(w)*rand_unitary(N, density=density) for w in weights])\n",
    "    return kraus_ops\n",
    "\n",
    "\n",
    "kraus_true = random_kraus(N, np.random.uniform(0.1, 1.), rank)"
   ]
  },
  {
   "cell_type": "markdown",
   "metadata": {},
   "source": [
    "### Convert to the Choi matrix and visualize the Choi matrix"
   ]
  },
  {
   "cell_type": "code",
   "execution_count": 3,
   "metadata": {},
   "outputs": [
    {
     "data": {
      "image/png": "[encoded data removed]",
      "text/plain": [
       "<Figure size 576x432 with 2 Axes>"
      ]
     },
     "metadata": {
      "needs_background": "light"
     },
     "output_type": "display_data"
    }
   ],
   "source": [
    "def choi(kraus_ops):\n",
    "    \"\"\"Takes the Kraus reprensentation of a channel and returns the Choi matrix.\n",
    "\n",
    "    Args:\n",
    "        kraus_ops (np.ndarray): The (k, N, N)-array representing k Kraus ops.\n",
    "\n",
    "    Returns:\n",
    "        np.array: A (N^2, N^2) array representing the Choi matrix.\n",
    "    \"\"\"\n",
    "    r, N, N = kraus_ops.shape\n",
    "    vectorized_kraus = kraus_ops.reshape(r, N ** 2)\n",
    "    return np.einsum(\"ij, il -> jl\", vectorized_kraus, vectorized_kraus.conj())\n",
    "\n",
    "\n",
    "\n",
    "kraus_true = random_kraus(N, np.random.uniform(0.1, 1.), rank)\n",
    "choi_qutip_test = kraus_to_choi([Qobj(kop) for kop in kraus_true])\n",
    "choi_true = choi(kraus_true)# choi_qutip.full()\n",
    "choi_qutip = Qobj(choi_true, dims=choi_qutip_test.dims, superrep=\"choi\")\n",
    "\n",
    "\n",
    "hinton(choi_true)\n",
    "plt.show()"
   ]
  },
  {
   "cell_type": "markdown",
   "metadata": {},
   "source": [
    "### Generate the Pauli-basis operators that act as probes and measurement ops"
   ]
  },
  {
   "cell_type": "code",
   "execution_count": 4,
   "metadata": {},
   "outputs": [],
   "source": [
    "s2 = np.sqrt(0.5)\n",
    "\n",
    "X, X_  = ket2dm(Qobj(np.array([s2+ 0j, s2+ 0j]))), ket2dm(Qobj(np.array([s2+ 0j, -s2+ 0j])))\n",
    "Y, Y_  = ket2dm(Qobj(np.array([s2, s2*1j]))), ket2dm(Qobj(np.array([s2, -s2*1j])))\n",
    "Z, Z_  = ket2dm(Qobj(np.array([1. + 0j, 0. + 0j]))), ket2dm(Qobj(np.array([0.+ 0j, 1.+ 0j])))\n",
    "\n",
    "pauli_basis = tensor_product_list([Z, Z_, X, X_, Y, Y_], repeat=n)\n",
    "pauli_basis = convert_to_jax(pauli_basis)"
   ]
  },
  {
   "cell_type": "markdown",
   "metadata": {},
   "source": [
    "### Generate the sensing matrix from Pauli operators"
   ]
  },
  {
   "cell_type": "code",
   "execution_count": 5,
   "metadata": {},
   "outputs": [
    {
     "name": "stdout",
     "output_type": "stream",
     "text": [
      "(1296, 256)\n"
     ]
    }
   ],
   "source": [
    "S = get_sensing_matrix(pauli_basis, pauli_basis)\n",
    "S = S.reshape(-1, S.shape[2])\n",
    "print(S.shape)"
   ]
  },
  {
   "cell_type": "markdown",
   "metadata": {},
   "source": [
    "### Generate the probabilites for different measurements and add noise to form the data"
   ]
  },
  {
   "cell_type": "code",
   "execution_count": 6,
   "metadata": {},
   "outputs": [
    {
     "name": "stderr",
     "output_type": "stream",
     "text": [
      "/Users/shahnawaz/miniconda3/envs/gd-qpt/lib/python3.10/site-packages/numpy/lib/histograms.py:852: ComplexWarning: Casting complex values to real discards the imaginary part\n",
      "  indices = f_indices.astype(np.intp)\n",
      "/Users/shahnawaz/miniconda3/envs/gd-qpt/lib/python3.10/site-packages/matplotlib/transforms.py:775: ComplexWarning: Casting complex values to real discards the imaginary part\n",
      "  points = np.asarray(points, float)\n"
     ]
    },
    {
     "data": {
      "image/png": "[encoded data removed]",
      "text/plain": [
       "<Figure size 432x288 with 1 Axes>"
      ]
     },
     "metadata": {
      "needs_background": "light"
     },
     "output_type": "display_data"
    }
   ],
   "source": [
    "probabilities = S@(choi_qutip.full().T).ravel()\n",
    "\n",
    "order = 100\n",
    "data = probabilities + np.random.normal(0, 1/order, size=probabilities.shape[0])\n",
    "\n",
    "plt.hist(data.ravel() - probabilities.ravel(), bins=100)\n",
    "plt.xlabel(\"Error\")\n",
    "plt.ylabel(\"Number of probabilities\")\n",
    "plt.show()"
   ]
  },
  {
   "cell_type": "markdown",
   "metadata": {},
   "source": [
    "### Apply compressed sensing to reconstruct the process from noisy data"
   ]
  },
  {
   "cell_type": "code",
   "execution_count": 7,
   "metadata": {},
   "outputs": [],
   "source": [
    "model = CompressedSensing(dim=4**n)\n",
    "choi_cs = model.fit(S, data)\n",
    "choi_cs_qutip = Qobj(choi_cs, superrep=\"choi\", dims=choi_qutip.dims)"
   ]
  },
  {
   "cell_type": "code",
   "execution_count": 8,
   "metadata": {},
   "outputs": [
    {
     "name": "stderr",
     "output_type": "stream",
     "text": [
      "/Users/shahnawaz/miniconda3/envs/gd-qpt/lib/python3.10/site-packages/qutip/qobj.py:530: UserWarning: Multiplying superoperators with different representations\n",
      "  warnings.warn(msg)\n"
     ]
    },
    {
     "data": {
      "image/png": "[encoded data removed]",
      "text/plain": [
       "<Figure size 720x288 with 4 Axes>"
      ]
     },
     "metadata": {
      "needs_background": "light"
     },
     "output_type": "display_data"
    }
   ],
   "source": [
    "cs_fidelity =  fidelity(choi_cs_qutip/2**n, choi_qutip/2**n)\n",
    "\n",
    "fig, ax = plt.subplots(1, 2, figsize=(10, 4))\n",
    "hinton(choi_cs, ax=ax[1])\n",
    "hinton(choi_true, ax=ax[0])\n",
    "\n",
    "ax[0].set_title(\"True Choi matrix\")\n",
    "ax[1].set_title(f\"Compressed sensing reconstruction \\n F = {cs_fidelity}\")\n",
    "\n",
    "plt.show()"
   ]
  },
  {
   "cell_type": "markdown",
   "metadata": {},
   "source": [
    "### Gradient descent QPT\n",
    "\n",
    "Note that we generate the same probabilities as before but the ordering of the\n",
    "Pauli matrices is a bit different that leads to reshuffling of the order of the\n",
    "probabilities from the CS example. We use the predict function that takes in a\n",
    "set of Kraus operators, probes and measurements to generate probabilities and\n",
    "test it against the `probas_pauli` function from the PLS paper:\n",
    "https://github.com/Hannoskaj/Hyperplane_Intersection_Projection"
   ]
  },
  {
   "cell_type": "code",
   "execution_count": 9,
   "metadata": {},
   "outputs": [
    {
     "data": {
      "image/png": "[encoded data removed]",
      "text/plain": [
       "<Figure size 432x288 with 1 Axes>"
      ]
     },
     "metadata": {
      "needs_background": "light"
     },
     "output_type": "display_data"
    }
   ],
   "source": [
    "Pk = prod_pauli_vecs(n)\n",
    "probas = probas_pauli(n, kraus_true)\n",
    "\n",
    "np.testing.assert_array_almost_equal(probas, predict(kraus_true, Pk, Pk))\n",
    "\n",
    "# Add noise to the data\n",
    "data = probas + np.random.normal(0, 1/order, size=probas.shape)\n",
    "plt.hist(data.ravel() - probas.ravel(), bins=100)\n",
    "plt.xlabel(\"Error\")\n",
    "plt.ylabel(\"Number of probabilities\")\n",
    "plt.show()\n"
   ]
  },
  {
   "cell_type": "markdown",
   "metadata": {},
   "source": [
    "### Random initialization of Kraus operators and gradient-descent on the Stiefel manifold"
   ]
  },
  {
   "cell_type": "code",
   "execution_count": 10,
   "metadata": {},
   "outputs": [
    {
     "data": {
      "image/png": "[encoded data removed]",
      "text/plain": [
       "<Figure size 576x432 with 2 Axes>"
      ]
     },
     "metadata": {
      "needs_background": "light"
     },
     "output_type": "display_data"
    }
   ],
   "source": [
    "params_init = jnp.array([rand_unitary(N, density=0.5).full()/np.sqrt(num_kraus) for w in range(num_kraus)])\n",
    "params = get_block(params_init)\n",
    "\n",
    "choi_initial_qutip = kraus_to_choi([Qobj(np.array(kop)) for kop in params_init])\n",
    "choi_initial = choi_initial_qutip.full()\n",
    "\n",
    "hinton(choi_initial)\n",
    "plt.show()"
   ]
  },
  {
   "cell_type": "markdown",
   "metadata": {},
   "source": [
    "### Loss function"
   ]
  },
  {
   "cell_type": "code",
   "execution_count": 11,
   "metadata": {},
   "outputs": [
    {
     "name": "stdout",
     "output_type": "stream",
     "text": [
      "11.505149187245712\n"
     ]
    }
   ],
   "source": [
    "@partial(jit, static_argnums=4)\n",
    "def loss(params, data=None, probes=None, measurements=None, num_kraus=None):\n",
    "    \"\"\"Loss function for the training assuming a predict function that can \n",
    "    generate probabilities for a measurement from the given process representation\n",
    "    captured in params.\n",
    "\n",
    "    Args:\n",
    "        params (array): Parameters to optimize, e.g., Kraus operators.\n",
    "        data (array): Data representing measured probabilities.\n",
    "        probes (array): The probe operators.\n",
    "        measurements (array): The measurement operators as Pauli vectors.\n",
    "        num_kraus (int): The number of Kraus operators.\n",
    "\n",
    "    Returns:\n",
    "        loss (float): A scalar loss\n",
    "    \"\"\"\n",
    "    k_ops = get_unblock(params, num_kraus)\n",
    "    data_pred = predict(k_ops, probes, measurements)\n",
    "\n",
    "    l2 = jnp.sum(((data - data_pred)**2))\n",
    "    return l2 + 0.01*jnp.linalg.norm(params, ord=1)\n",
    "\n",
    "\n",
    "print(loss(params, data, Pk, Pk, num_kraus))"
   ]
  },
  {
   "cell_type": "markdown",
   "metadata": {},
   "source": [
    "### Loss gradients using batches of probes and measurements"
   ]
  },
  {
   "cell_type": "code",
   "execution_count": 12,
   "metadata": {},
   "outputs": [],
   "source": [
    "def generate_batch(batch_size, len_indices):\n",
    "    \"\"\"Generates random indices to select a batch of the data \n",
    "        (probes x measurements) assuming same number of probes and measurements\n",
    "\n",
    "    Args:\n",
    "        batch_size (int): Batch size\n",
    "        len_indices (int): Length of training data \n",
    "                          (probes and measurements are assumed to be the same)\n",
    "\n",
    "    Returns:\n",
    "        idx : A meshgrid of indices for selecting the data.\n",
    "        idx1, idx2 (array): Indices for the probes and measurements.\n",
    "    \"\"\"\n",
    "    idx1, idx2 = np.random.randint(0, len_indices, size=[2, batch_size])\n",
    "    idx = tuple(np.meshgrid(idx1, idx2))\n",
    "    return idx, idx1, idx2\n",
    "\n",
    "\n",
    "batch_size = 32\n",
    "idx, idx1, idx2 = generate_batch(batch_size, len(Pk))"
   ]
  },
  {
   "cell_type": "markdown",
   "metadata": {},
   "source": [
    "### Compute the retraction and update parameters on the Stiefel manifold"
   ]
  },
  {
   "cell_type": "code",
   "execution_count": 13,
   "metadata": {},
   "outputs": [],
   "source": [
    "grads = jax.grad(loss)(params, data.T[idx].real, Pk[idx1], Pk[idx2], num_kraus)\n",
    "grads = jnp.conj(grads)\n",
    "updated_params = stiefel_update(params, grads, 0.00001)"
   ]
  },
  {
   "cell_type": "markdown",
   "metadata": {},
   "source": [
    "### Run gradient descent using batches of data"
   ]
  },
  {
   "cell_type": "code",
   "execution_count": 14,
   "metadata": {},
   "outputs": [
    {
     "name": "stderr",
     "output_type": "stream",
     "text": [
      "100%|██████████| 1000/1000 [00:05<00:00, 169.85it/s]\n"
     ]
    }
   ],
   "source": [
    "lr = 0.1\n",
    "alpha = 0.999\n",
    "loss_hist = []\n",
    "\n",
    "for step in trange(1000): # pbar:\n",
    "    idx, idx1, idx2 = generate_batch(batch_size, len(Pk))\n",
    "    grads = jax.grad(loss)(params, data.T[idx].real, Pk[idx1], Pk[idx2], num_kraus=num_kraus)\n",
    "    grads = jnp.conj(grads)\n",
    "    grads = grads/jnp.linalg.norm(grads)\n",
    "\n",
    "    params = stiefel_update(params, grads, lr)\n",
    "    lr = alpha*lr\n",
    "\n",
    "    lval = loss(params, data.T[idx].real, Pk[idx1], Pk[idx2], num_kraus=num_kraus)\n",
    "    loss_hist.append(lval)"
   ]
  },
  {
   "cell_type": "code",
   "execution_count": 15,
   "metadata": {},
   "outputs": [
    {
     "data": {
      "image/png": "[encoded data removed]",
      "text/plain": [
       "<Figure size 432x288 with 1 Axes>"
      ]
     },
     "metadata": {
      "needs_background": "light"
     },
     "output_type": "display_data"
    }
   ],
   "source": [
    "plt.semilogx(loss_hist)\n",
    "plt.xlabel(\"Iterations\")\n",
    "plt.ylabel(\"Loss\")\n",
    "plt.show()"
   ]
  },
  {
   "cell_type": "code",
   "execution_count": 16,
   "metadata": {},
   "outputs": [],
   "source": [
    "k_ops = get_unblock(params, num_kraus)\n",
    "\n",
    "choi_gd = choi(k_ops)\n",
    "choi_gd_qutip = Qobj(choi_gd, dims=choi_qutip.dims, superrep=\"choi\")"
   ]
  },
  {
   "cell_type": "code",
   "execution_count": 17,
   "metadata": {},
   "outputs": [
    {
     "data": {
      "image/png": "[encoded data removed]",
      "text/plain": [
       "<Figure size 720x288 with 4 Axes>"
      ]
     },
     "metadata": {
      "needs_background": "light"
     },
     "output_type": "display_data"
    }
   ],
   "source": [
    "gd_fidelity =  fidelity(choi_gd_qutip/2**n, choi_qutip/2**n)\n",
    "\n",
    "fig, ax = plt.subplots(1, 2, figsize=(10, 4))\n",
    "hinton(choi_true, ax=ax[0])\n",
    "hinton(choi_gd, ax=ax[1])\n",
    "\n",
    "ax[0].set_title(\"True Choi matrix\")\n",
    "ax[1].set_title(f\"GD-QPT reconstruction \\n F = {gd_fidelity}\")\n",
    "\n",
    "plt.show()"
   ]
  }
 ],
 "metadata": {
  "kernelspec": {
   "display_name": "Python 3.10.5 ('gd-qpt')",
   "language": "python",
   "name": "python3"
  },
  "language_info": {
   "codemirror_mode": {
    "name": "ipython",
    "version": 3
   },
   "file_extension": ".py",
   "mimetype": "text/x-python",
   "name": "python",
   "nbconvert_exporter": "python",
   "pygments_lexer": "ipython3",
   "version": "3.10.5"
  },
  "orig_nbformat": 4,
  "vscode": {
   "interpreter": {
    "hash": "7b8c2e5d3aedce9d5f9953f8a588dd6fc8f60566d9bb78978b5e021033c399b4"
   }
  }
 },
 "nbformat": 4,
 "nbformat_minor": 2
}
